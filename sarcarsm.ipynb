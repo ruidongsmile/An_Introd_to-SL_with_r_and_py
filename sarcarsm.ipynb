{
 "cells": [
  {
   "cell_type": "code",
   "execution_count": 1,
   "id": "3a5e8b1c",
   "metadata": {
    "execution": {
     "iopub.execute_input": "2022-05-14T14:42:41.581203Z",
     "iopub.status.busy": "2022-05-14T14:42:41.580493Z",
     "iopub.status.idle": "2022-05-14T14:42:47.917690Z",
     "shell.execute_reply": "2022-05-14T14:42:47.917075Z",
     "shell.execute_reply.started": "2022-05-14T14:25:02.609906Z"
    },
    "papermill": {
     "duration": 6.369776,
     "end_time": "2022-05-14T14:42:47.917854",
     "exception": false,
     "start_time": "2022-05-14T14:42:41.548078",
     "status": "completed"
    },
    "tags": []
   },
   "outputs": [],
   "source": [
    "import pandas as pd\n",
    "\n",
    "from sklearn.model_selection import train_test_split\n",
    "\n",
    "import tensorflow as tf\n",
    "from tensorflow.keras.preprocessing.text import Tokenizer\n",
    "from tensorflow.keras.preprocessing.sequence import pad_sequences\n",
    "from tensorflow.keras.layers import Embedding\n",
    "from tensorflow.keras import layers\n",
    "from tensorflow import keras\n",
    "\n",
    "from tensorflow.keras.callbacks import EarlyStopping, ReduceLROnPlateau, ModelCheckpoint\n",
    "\n",
    "import matplotlib.pyplot as plt"
   ]
  },
  {
   "cell_type": "code",
   "execution_count": 2,
   "id": "18f763a8",
   "metadata": {
    "execution": {
     "iopub.execute_input": "2022-05-14T14:42:47.964188Z",
     "iopub.status.busy": "2022-05-14T14:42:47.963277Z",
     "iopub.status.idle": "2022-05-14T14:42:48.285727Z",
     "shell.execute_reply": "2022-05-14T14:42:48.285115Z",
     "shell.execute_reply.started": "2022-05-14T14:22:50.405588Z"
    },
    "papermill": {
     "duration": 0.345581,
     "end_time": "2022-05-14T14:42:48.285850",
     "exception": false,
     "start_time": "2022-05-14T14:42:47.940269",
     "status": "completed"
    },
    "tags": []
   },
   "outputs": [],
   "source": [
    "df = pd.read_json(\"/kaggle/input/news-headlines-dataset-for-sarcasm-detection/Sarcasm_Headlines_Dataset_v2.json\", lines=True)"
   ]
  },
  {
   "cell_type": "code",
   "execution_count": 3,
   "id": "c5460b99",
   "metadata": {
    "execution": {
     "iopub.execute_input": "2022-05-14T14:42:48.338673Z",
     "iopub.status.busy": "2022-05-14T14:42:48.337992Z",
     "iopub.status.idle": "2022-05-14T14:42:48.341239Z",
     "shell.execute_reply": "2022-05-14T14:42:48.341647Z",
     "shell.execute_reply.started": "2022-05-14T14:22:51.242392Z"
    },
    "papermill": {
     "duration": 0.034941,
     "end_time": "2022-05-14T14:42:48.341789",
     "exception": false,
     "start_time": "2022-05-14T14:42:48.306848",
     "status": "completed"
    },
    "tags": []
   },
   "outputs": [
    {
     "data": {
      "text/plain": [
       "0    14985\n",
       "1    13634\n",
       "Name: is_sarcastic, dtype: int64"
      ]
     },
     "execution_count": 3,
     "metadata": {},
     "output_type": "execute_result"
    }
   ],
   "source": [
    "# The number of sarcastics and non-sarcastics are almost similar \n",
    "df['is_sarcastic'].value_counts()"
   ]
  },
  {
   "cell_type": "code",
   "execution_count": 4,
   "id": "3cfd1777",
   "metadata": {
    "execution": {
     "iopub.execute_input": "2022-05-14T14:42:48.386817Z",
     "iopub.status.busy": "2022-05-14T14:42:48.386140Z",
     "iopub.status.idle": "2022-05-14T14:42:48.388606Z",
     "shell.execute_reply": "2022-05-14T14:42:48.388183Z",
     "shell.execute_reply.started": "2022-05-14T14:22:51.714177Z"
    },
    "papermill": {
     "duration": 0.026234,
     "end_time": "2022-05-14T14:42:48.388717",
     "exception": false,
     "start_time": "2022-05-14T14:42:48.362483",
     "status": "completed"
    },
    "tags": []
   },
   "outputs": [],
   "source": [
    "y = df[\"is_sarcastic\"].values\n",
    "\n",
    "X = df[\"headline\"].values"
   ]
  },
  {
   "cell_type": "code",
   "execution_count": 5,
   "id": "98cf289a",
   "metadata": {
    "execution": {
     "iopub.execute_input": "2022-05-14T14:42:48.435362Z",
     "iopub.status.busy": "2022-05-14T14:42:48.434691Z",
     "iopub.status.idle": "2022-05-14T14:42:48.439833Z",
     "shell.execute_reply": "2022-05-14T14:42:48.439388Z",
     "shell.execute_reply.started": "2022-05-14T14:22:52.302652Z"
    },
    "papermill": {
     "duration": 0.029523,
     "end_time": "2022-05-14T14:42:48.439940",
     "exception": false,
     "start_time": "2022-05-14T14:42:48.410417",
     "status": "completed"
    },
    "tags": []
   },
   "outputs": [],
   "source": [
    "X_train, X_test, y_train, y_test = train_test_split(X, y, shuffle=True, test_size=0.2)"
   ]
  },
  {
   "cell_type": "code",
   "execution_count": 6,
   "id": "604c1e76",
   "metadata": {
    "execution": {
     "iopub.execute_input": "2022-05-14T14:42:48.485165Z",
     "iopub.status.busy": "2022-05-14T14:42:48.484349Z",
     "iopub.status.idle": "2022-05-14T14:42:48.486020Z",
     "shell.execute_reply": "2022-05-14T14:42:48.486511Z",
     "shell.execute_reply.started": "2022-05-14T14:22:52.676059Z"
    },
    "papermill": {
     "duration": 0.026369,
     "end_time": "2022-05-14T14:42:48.486626",
     "exception": false,
     "start_time": "2022-05-14T14:42:48.460257",
     "status": "completed"
    },
    "tags": []
   },
   "outputs": [],
   "source": [
    "num_words = 10000\n",
    "max_length = 20\n",
    "trunc_type='post'\n",
    "padding_type='post'\n",
    "oov_tok = '<OOV>'"
   ]
  },
  {
   "cell_type": "code",
   "execution_count": 7,
   "id": "8d60e212",
   "metadata": {
    "execution": {
     "iopub.execute_input": "2022-05-14T14:42:48.530049Z",
     "iopub.status.busy": "2022-05-14T14:42:48.529291Z",
     "iopub.status.idle": "2022-05-14T14:42:48.533008Z",
     "shell.execute_reply": "2022-05-14T14:42:48.532615Z",
     "shell.execute_reply.started": "2022-05-14T14:22:52.959696Z"
    },
    "papermill": {
     "duration": 0.026452,
     "end_time": "2022-05-14T14:42:48.533109",
     "exception": false,
     "start_time": "2022-05-14T14:42:48.506657",
     "status": "completed"
    },
    "tags": []
   },
   "outputs": [],
   "source": [
    "tokenizer = Tokenizer(num_words=num_words,\n",
    "                      oov_token='oov_tok')"
   ]
  },
  {
   "cell_type": "code",
   "execution_count": 8,
   "id": "98ecbc81",
   "metadata": {
    "execution": {
     "iopub.execute_input": "2022-05-14T14:42:48.591096Z",
     "iopub.status.busy": "2022-05-14T14:42:48.580967Z",
     "iopub.status.idle": "2022-05-14T14:42:48.949957Z",
     "shell.execute_reply": "2022-05-14T14:42:48.950376Z",
     "shell.execute_reply.started": "2022-05-14T14:22:53.172912Z"
    },
    "papermill": {
     "duration": 0.397207,
     "end_time": "2022-05-14T14:42:48.950568",
     "exception": false,
     "start_time": "2022-05-14T14:42:48.553361",
     "status": "completed"
    },
    "tags": []
   },
   "outputs": [],
   "source": [
    "tokenizer.fit_on_texts(X_train)"
   ]
  },
  {
   "cell_type": "code",
   "execution_count": 9,
   "id": "5bfb91db",
   "metadata": {
    "execution": {
     "iopub.execute_input": "2022-05-14T14:42:48.995803Z",
     "iopub.status.busy": "2022-05-14T14:42:48.994989Z",
     "iopub.status.idle": "2022-05-14T14:42:48.998482Z",
     "shell.execute_reply": "2022-05-14T14:42:48.998873Z",
     "shell.execute_reply.started": "2022-05-14T14:22:53.593831Z"
    },
    "papermill": {
     "duration": 0.027319,
     "end_time": "2022-05-14T14:42:48.999012",
     "exception": false,
     "start_time": "2022-05-14T14:42:48.971693",
     "status": "completed"
    },
    "tags": []
   },
   "outputs": [],
   "source": [
    "word_ind = tokenizer.word_index"
   ]
  },
  {
   "cell_type": "code",
   "execution_count": 10,
   "id": "79033f70",
   "metadata": {
    "execution": {
     "iopub.execute_input": "2022-05-14T14:42:49.068047Z",
     "iopub.status.busy": "2022-05-14T14:42:49.062852Z",
     "iopub.status.idle": "2022-05-14T14:42:49.330659Z",
     "shell.execute_reply": "2022-05-14T14:42:49.330140Z",
     "shell.execute_reply.started": "2022-05-14T14:22:53.993282Z"
    },
    "papermill": {
     "duration": 0.311215,
     "end_time": "2022-05-14T14:42:49.330802",
     "exception": false,
     "start_time": "2022-05-14T14:42:49.019587",
     "status": "completed"
    },
    "tags": []
   },
   "outputs": [],
   "source": [
    "training_seq = tokenizer.texts_to_sequences(X_train)"
   ]
  },
  {
   "cell_type": "code",
   "execution_count": 11,
   "id": "e49c9200",
   "metadata": {
    "execution": {
     "iopub.execute_input": "2022-05-14T14:42:49.383705Z",
     "iopub.status.busy": "2022-05-14T14:42:49.382913Z",
     "iopub.status.idle": "2022-05-14T14:42:49.501013Z",
     "shell.execute_reply": "2022-05-14T14:42:49.500235Z",
     "shell.execute_reply.started": "2022-05-14T14:22:54.462731Z"
    },
    "papermill": {
     "duration": 0.14916,
     "end_time": "2022-05-14T14:42:49.501171",
     "exception": false,
     "start_time": "2022-05-14T14:42:49.352011",
     "status": "completed"
    },
    "tags": []
   },
   "outputs": [],
   "source": [
    "training_padded = pad_sequences(training_seq, padding='post', truncating='post', maxlen=max_length)"
   ]
  },
  {
   "cell_type": "code",
   "execution_count": 12,
   "id": "66612081",
   "metadata": {
    "execution": {
     "iopub.execute_input": "2022-05-14T14:42:49.597202Z",
     "iopub.status.busy": "2022-05-14T14:42:49.586955Z",
     "iopub.status.idle": "2022-05-14T14:42:49.624271Z",
     "shell.execute_reply": "2022-05-14T14:42:49.623862Z",
     "shell.execute_reply.started": "2022-05-14T14:22:54.812832Z"
    },
    "papermill": {
     "duration": 0.102301,
     "end_time": "2022-05-14T14:42:49.624389",
     "exception": false,
     "start_time": "2022-05-14T14:42:49.522088",
     "status": "completed"
    },
    "tags": []
   },
   "outputs": [],
   "source": [
    "test_seq = tokenizer.texts_to_sequences(X_test)"
   ]
  },
  {
   "cell_type": "code",
   "execution_count": 13,
   "id": "1060d502",
   "metadata": {
    "execution": {
     "iopub.execute_input": "2022-05-14T14:42:49.674095Z",
     "iopub.status.busy": "2022-05-14T14:42:49.673365Z",
     "iopub.status.idle": "2022-05-14T14:42:49.702287Z",
     "shell.execute_reply": "2022-05-14T14:42:49.702690Z",
     "shell.execute_reply.started": "2022-05-14T14:22:55.181972Z"
    },
    "papermill": {
     "duration": 0.057832,
     "end_time": "2022-05-14T14:42:49.702822",
     "exception": false,
     "start_time": "2022-05-14T14:42:49.644990",
     "status": "completed"
    },
    "tags": []
   },
   "outputs": [],
   "source": [
    "test_padded = pad_sequences(test_seq, padding=padding_type, truncating=trunc_type, maxlen=max_length)"
   ]
  },
  {
   "cell_type": "code",
   "execution_count": 14,
   "id": "72aed52b",
   "metadata": {
    "execution": {
     "iopub.execute_input": "2022-05-14T14:42:49.746973Z",
     "iopub.status.busy": "2022-05-14T14:42:49.746185Z",
     "iopub.status.idle": "2022-05-14T14:42:52.980917Z",
     "shell.execute_reply": "2022-05-14T14:42:52.981906Z",
     "shell.execute_reply.started": "2022-05-14T14:22:55.524803Z"
    },
    "papermill": {
     "duration": 3.258722,
     "end_time": "2022-05-14T14:42:52.982126",
     "exception": false,
     "start_time": "2022-05-14T14:42:49.723404",
     "status": "completed"
    },
    "tags": []
   },
   "outputs": [
    {
     "name": "stderr",
     "output_type": "stream",
     "text": [
      "2022-05-14 14:42:49.839729: I tensorflow/stream_executor/cuda/cuda_gpu_executor.cc:937] successful NUMA node read from SysFS had negative value (-1), but there must be at least one NUMA node, so returning NUMA node zero\n",
      "2022-05-14 14:42:49.937697: I tensorflow/stream_executor/cuda/cuda_gpu_executor.cc:937] successful NUMA node read from SysFS had negative value (-1), but there must be at least one NUMA node, so returning NUMA node zero\n",
      "2022-05-14 14:42:49.938517: I tensorflow/stream_executor/cuda/cuda_gpu_executor.cc:937] successful NUMA node read from SysFS had negative value (-1), but there must be at least one NUMA node, so returning NUMA node zero\n",
      "2022-05-14 14:42:49.939717: I tensorflow/core/platform/cpu_feature_guard.cc:142] This TensorFlow binary is optimized with oneAPI Deep Neural Network Library (oneDNN) to use the following CPU instructions in performance-critical operations:  AVX2 AVX512F FMA\n",
      "To enable them in other operations, rebuild TensorFlow with the appropriate compiler flags.\n",
      "2022-05-14 14:42:49.940876: I tensorflow/stream_executor/cuda/cuda_gpu_executor.cc:937] successful NUMA node read from SysFS had negative value (-1), but there must be at least one NUMA node, so returning NUMA node zero\n",
      "2022-05-14 14:42:49.941643: I tensorflow/stream_executor/cuda/cuda_gpu_executor.cc:937] successful NUMA node read from SysFS had negative value (-1), but there must be at least one NUMA node, so returning NUMA node zero\n",
      "2022-05-14 14:42:49.942292: I tensorflow/stream_executor/cuda/cuda_gpu_executor.cc:937] successful NUMA node read from SysFS had negative value (-1), but there must be at least one NUMA node, so returning NUMA node zero\n",
      "2022-05-14 14:42:52.117704: I tensorflow/stream_executor/cuda/cuda_gpu_executor.cc:937] successful NUMA node read from SysFS had negative value (-1), but there must be at least one NUMA node, so returning NUMA node zero\n",
      "2022-05-14 14:42:52.118519: I tensorflow/stream_executor/cuda/cuda_gpu_executor.cc:937] successful NUMA node read from SysFS had negative value (-1), but there must be at least one NUMA node, so returning NUMA node zero\n",
      "2022-05-14 14:42:52.119220: I tensorflow/stream_executor/cuda/cuda_gpu_executor.cc:937] successful NUMA node read from SysFS had negative value (-1), but there must be at least one NUMA node, so returning NUMA node zero\n",
      "2022-05-14 14:42:52.119826: I tensorflow/core/common_runtime/gpu/gpu_device.cc:1510] Created device /job:localhost/replica:0/task:0/device:GPU:0 with 15403 MB memory:  -> device: 0, name: Tesla P100-PCIE-16GB, pci bus id: 0000:00:04.0, compute capability: 6.0\n"
     ]
    }
   ],
   "source": [
    "model = keras.models.Sequential([\n",
    "    layers.Embedding(input_dim=num_words,\n",
    "                     output_dim=128,\n",
    "                     input_length=max_length),\n",
    "    layers.Bidirectional(layers.LSTM(50), ),\n",
    "    layers.Dense(64, activation=\"relu\"),\n",
    "    layers.Dense(1, activation=\"sigmoid\")\n",
    "])"
   ]
  },
  {
   "cell_type": "code",
   "execution_count": 15,
   "id": "3d16f20d",
   "metadata": {
    "execution": {
     "iopub.execute_input": "2022-05-14T14:42:53.064666Z",
     "iopub.status.busy": "2022-05-14T14:42:53.063806Z",
     "iopub.status.idle": "2022-05-14T14:42:53.074735Z",
     "shell.execute_reply": "2022-05-14T14:42:53.075505Z",
     "shell.execute_reply.started": "2022-05-14T14:22:56.897528Z"
    },
    "papermill": {
     "duration": 0.054605,
     "end_time": "2022-05-14T14:42:53.075703",
     "exception": false,
     "start_time": "2022-05-14T14:42:53.021098",
     "status": "completed"
    },
    "tags": []
   },
   "outputs": [
    {
     "name": "stdout",
     "output_type": "stream",
     "text": [
      "Model: \"sequential\"\n",
      "_________________________________________________________________\n",
      "Layer (type)                 Output Shape              Param #   \n",
      "=================================================================\n",
      "embedding (Embedding)        (None, 20, 128)           1280000   \n",
      "_________________________________________________________________\n",
      "bidirectional (Bidirectional (None, 100)               71600     \n",
      "_________________________________________________________________\n",
      "dense (Dense)                (None, 64)                6464      \n",
      "_________________________________________________________________\n",
      "dense_1 (Dense)              (None, 1)                 65        \n",
      "=================================================================\n",
      "Total params: 1,358,129\n",
      "Trainable params: 1,358,129\n",
      "Non-trainable params: 0\n",
      "_________________________________________________________________\n"
     ]
    }
   ],
   "source": [
    "model.summary()"
   ]
  },
  {
   "cell_type": "code",
   "execution_count": 16,
   "id": "90961e1c",
   "metadata": {
    "execution": {
     "iopub.execute_input": "2022-05-14T14:42:53.155450Z",
     "iopub.status.busy": "2022-05-14T14:42:53.154584Z",
     "iopub.status.idle": "2022-05-14T14:42:53.164490Z",
     "shell.execute_reply": "2022-05-14T14:42:53.165080Z",
     "shell.execute_reply.started": "2022-05-14T14:22:56.910086Z"
    },
    "papermill": {
     "duration": 0.053089,
     "end_time": "2022-05-14T14:42:53.165288",
     "exception": false,
     "start_time": "2022-05-14T14:42:53.112199",
     "status": "completed"
    },
    "tags": []
   },
   "outputs": [],
   "source": [
    "model.compile(loss=\"binary_crossentropy\",\n",
    "              optimizer=\"rmsprop\",\n",
    "              metrics=[\"accuracy\"])"
   ]
  },
  {
   "cell_type": "code",
   "execution_count": 17,
   "id": "d10208cc",
   "metadata": {
    "execution": {
     "iopub.execute_input": "2022-05-14T14:42:53.243563Z",
     "iopub.status.busy": "2022-05-14T14:42:53.242800Z",
     "iopub.status.idle": "2022-05-14T14:42:53.248052Z",
     "shell.execute_reply": "2022-05-14T14:42:53.247301Z",
     "shell.execute_reply.started": "2022-05-14T14:22:56.924952Z"
    },
    "papermill": {
     "duration": 0.047376,
     "end_time": "2022-05-14T14:42:53.248238",
     "exception": false,
     "start_time": "2022-05-14T14:42:53.200862",
     "status": "completed"
    },
    "tags": []
   },
   "outputs": [],
   "source": [
    "early_stopping = EarlyStopping(patience=5, monitor='val_loss')\n",
    "\n",
    "reduce_lr = ReduceLROnPlateau(monitor='val_loss', min_lr=0.001,\n",
    "                        patience=5, mode='min',\n",
    "                        verbose=1)\n",
    "\n",
    "model_checkpoint = ModelCheckpoint(monitor='val_loss', \n",
    "                             filepath='model-best-kaggle-tl.h5', \n",
    "                             save_best_only=True)\n",
    "\n",
    "callbacks = [\n",
    "    early_stopping,\n",
    "    reduce_lr,\n",
    "    model_checkpoint\n",
    "]"
   ]
  },
  {
   "cell_type": "code",
   "execution_count": 18,
   "id": "332eaf28",
   "metadata": {
    "execution": {
     "iopub.execute_input": "2022-05-14T14:42:53.334452Z",
     "iopub.status.busy": "2022-05-14T14:42:53.333618Z",
     "iopub.status.idle": "2022-05-14T14:43:37.487685Z",
     "shell.execute_reply": "2022-05-14T14:43:37.488106Z",
     "shell.execute_reply.started": "2022-05-14T14:22:57.048982Z"
    },
    "papermill": {
     "duration": 44.201986,
     "end_time": "2022-05-14T14:43:37.488263",
     "exception": false,
     "start_time": "2022-05-14T14:42:53.286277",
     "status": "completed"
    },
    "tags": []
   },
   "outputs": [
    {
     "name": "stderr",
     "output_type": "stream",
     "text": [
      "2022-05-14 14:42:53.401592: I tensorflow/compiler/mlir/mlir_graph_optimization_pass.cc:185] None of the MLIR Optimization Passes are enabled (registered 2)\n"
     ]
    },
    {
     "name": "stdout",
     "output_type": "stream",
     "text": [
      "Epoch 1/30\n"
     ]
    },
    {
     "name": "stderr",
     "output_type": "stream",
     "text": [
      "2022-05-14 14:42:57.414484: I tensorflow/stream_executor/cuda/cuda_dnn.cc:369] Loaded cuDNN version 8005\n"
     ]
    },
    {
     "name": "stdout",
     "output_type": "stream",
     "text": [
      "716/716 [==============================] - 11s 8ms/step - loss: 0.3792 - accuracy: 0.8215 - val_loss: 0.3232 - val_accuracy: 0.8567\n",
      "Epoch 2/30\n",
      "716/716 [==============================] - 5s 8ms/step - loss: 0.2494 - accuracy: 0.8981 - val_loss: 0.2914 - val_accuracy: 0.8742\n",
      "Epoch 3/30\n",
      "716/716 [==============================] - 5s 8ms/step - loss: 0.2065 - accuracy: 0.9181 - val_loss: 0.2991 - val_accuracy: 0.8753\n",
      "Epoch 4/30\n",
      "716/716 [==============================] - 5s 8ms/step - loss: 0.1801 - accuracy: 0.9305 - val_loss: 0.2987 - val_accuracy: 0.8770\n",
      "Epoch 5/30\n",
      "716/716 [==============================] - 6s 8ms/step - loss: 0.1541 - accuracy: 0.9406 - val_loss: 0.3261 - val_accuracy: 0.8744\n",
      "Epoch 6/30\n",
      "716/716 [==============================] - 5s 8ms/step - loss: 0.1300 - accuracy: 0.9503 - val_loss: 0.3698 - val_accuracy: 0.8674\n",
      "Epoch 7/30\n",
      "716/716 [==============================] - 5s 7ms/step - loss: 0.1111 - accuracy: 0.9585 - val_loss: 0.3825 - val_accuracy: 0.8636\n"
     ]
    }
   ],
   "source": [
    "history = model.fit(training_padded, y_train, validation_data=(test_padded, y_test), epochs=30, callbacks=callbacks)"
   ]
  },
  {
   "cell_type": "code",
   "execution_count": 19,
   "id": "75e14635",
   "metadata": {
    "execution": {
     "iopub.execute_input": "2022-05-14T14:43:38.184600Z",
     "iopub.status.busy": "2022-05-14T14:43:38.183618Z",
     "iopub.status.idle": "2022-05-14T14:44:18.924570Z",
     "shell.execute_reply": "2022-05-14T14:44:18.925041Z",
     "shell.execute_reply.started": "2022-05-14T14:30:29.254197Z"
    },
    "papermill": {
     "duration": 41.111455,
     "end_time": "2022-05-14T14:44:18.925198",
     "exception": false,
     "start_time": "2022-05-14T14:43:37.813743",
     "status": "completed"
    },
    "tags": []
   },
   "outputs": [
    {
     "data": {
      "image/png": "[encoded data removed]",
      "text/plain": [
       "<Figure size 432x288 with 1 Axes>"
      ]
     },
     "metadata": {
      "needs_background": "light"
     },
     "output_type": "display_data"
    }
   ],
   "source": [
    "plt.plot(history.history['loss'], 'r-', label='loss')\n",
    "plt.plot(history.history['val_loss'], 'b-', label='val_loss')\n",
    "plt.legend()\n",
    "plt.show()"
   ]
  },
  {
   "cell_type": "code",
   "execution_count": 20,
   "id": "0eb63acb",
   "metadata": {
    "execution": {
     "iopub.execute_input": "2022-05-14T14:44:19.400125Z",
     "iopub.status.busy": "2022-05-14T14:44:19.392803Z",
     "iopub.status.idle": "2022-05-14T14:44:19.581532Z",
     "shell.execute_reply": "2022-05-14T14:44:19.580963Z",
     "shell.execute_reply.started": "2022-05-14T14:31:57.590935Z"
    },
    "papermill": {
     "duration": 0.429006,
     "end_time": "2022-05-14T14:44:19.581678",
     "exception": false,
     "start_time": "2022-05-14T14:44:19.152672",
     "status": "completed"
    },
    "tags": []
   },
   "outputs": [
    {
     "data": {
      "image/png": "[encoded data removed]",
      "text/plain": [
       "<Figure size 432x288 with 1 Axes>"
      ]
     },
     "metadata": {
      "needs_background": "light"
     },
     "output_type": "display_data"
    }
   ],
   "source": [
    "plt.plot(history.history['accuracy'], 'ro', label='accuracy')\n",
    "plt.plot(history.history['val_accuracy'], 'bo', label='val_accuracy')\n",
    "plt.legend()\n",
    "plt.show()"
   ]
  },
  {
   "cell_type": "code",
   "execution_count": 21,
   "id": "655cf79b",
   "metadata": {
    "execution": {
     "iopub.execute_input": "2022-05-14T14:44:20.049481Z",
     "iopub.status.busy": "2022-05-14T14:44:20.048641Z",
     "iopub.status.idle": "2022-05-14T14:44:20.550993Z",
     "shell.execute_reply": "2022-05-14T14:44:20.550114Z",
     "shell.execute_reply.started": "2022-05-14T14:37:17.103924Z"
    },
    "papermill": {
     "duration": 0.741339,
     "end_time": "2022-05-14T14:44:20.551134",
     "exception": false,
     "start_time": "2022-05-14T14:44:19.809795",
     "status": "completed"
    },
    "tags": []
   },
   "outputs": [],
   "source": [
    "my_model = tf.keras.models.load_model('/kaggle/working/model-best-kaggle-tl.h5')"
   ]
  },
  {
   "cell_type": "code",
   "execution_count": 22,
   "id": "453067e1",
   "metadata": {
    "execution": {
     "iopub.execute_input": "2022-05-14T14:44:21.093447Z",
     "iopub.status.busy": "2022-05-14T14:44:21.092543Z",
     "iopub.status.idle": "2022-05-14T14:44:23.017969Z",
     "shell.execute_reply": "2022-05-14T14:44:23.017412Z",
     "shell.execute_reply.started": "2022-05-14T14:37:24.232129Z"
    },
    "papermill": {
     "duration": 2.196113,
     "end_time": "2022-05-14T14:44:23.018107",
     "exception": false,
     "start_time": "2022-05-14T14:44:20.821994",
     "status": "completed"
    },
    "tags": []
   },
   "outputs": [
    {
     "name": "stdout",
     "output_type": "stream",
     "text": [
      "179/179 [==============================] - 1s 4ms/step - loss: 0.2914 - accuracy: 0.8742\n"
     ]
    }
   ],
   "source": [
    "loss, val_acc = my_model.evaluate(test_padded, y_test)"
   ]
  },
  {
   "cell_type": "code",
   "execution_count": 23,
   "id": "c304cff2",
   "metadata": {
    "execution": {
     "iopub.execute_input": "2022-05-14T14:44:23.484218Z",
     "iopub.status.busy": "2022-05-14T14:44:23.482670Z",
     "iopub.status.idle": "2022-05-14T14:44:23.486227Z",
     "shell.execute_reply": "2022-05-14T14:44:23.485803Z",
     "shell.execute_reply.started": "2022-05-14T14:41:48.368451Z"
    },
    "papermill": {
     "duration": 0.238019,
     "end_time": "2022-05-14T14:44:23.486331",
     "exception": false,
     "start_time": "2022-05-14T14:44:23.248312",
     "status": "completed"
    },
    "tags": []
   },
   "outputs": [
    {
     "name": "stdout",
     "output_type": "stream",
     "text": [
      "The validation accuracy of my model is 87.42%.\n"
     ]
    }
   ],
   "source": [
    "print(f\"The validation accuracy of my model is {100 * val_acc:.2f}%.\")"
   ]
  },
  {
   "cell_type": "code",
   "execution_count": null,
   "id": "621e7340",
   "metadata": {
    "papermill": {
     "duration": 0.229797,
     "end_time": "2022-05-14T14:44:23.944596",
     "exception": false,
     "start_time": "2022-05-14T14:44:23.714799",
     "status": "completed"
    },
    "tags": []
   },
   "outputs": [],
   "source": []
  }
 ],
 "metadata": {
  "kernelspec": {
   "display_name": "Python 3",
   "language": "python",
   "name": "python3"
  },
  "language_info": {
   "codemirror_mode": {
    "name": "ipython",
    "version": 3
   },
   "file_extension": ".py",
   "mimetype": "text/x-python",
   "name": "python",
   "nbconvert_exporter": "python",
   "pygments_lexer": "ipython3",
   "version": "3.7.12"
  },
  "papermill": {
   "default_parameters": {},
   "duration": 114.475134,
   "end_time": "2022-05-14T14:44:27.468467",
   "environment_variables": {},
   "exception": null,
   "input_path": "__notebook__.ipynb",
   "output_path": "__notebook__.ipynb",
   "parameters": {},
   "start_time": "2022-05-14T14:42:32.993333",
   "version": "2.3.3"
  }
 },
 "nbformat": 4,
 "nbformat_minor": 5
}
